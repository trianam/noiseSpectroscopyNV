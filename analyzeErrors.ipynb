{
 "cells": [
  {
   "cell_type": "code",
   "execution_count": 1,
   "metadata": {
    "collapsed": true
   },
   "outputs": [],
   "source": [
    "import os\n",
    "import numpy as np"
   ]
  },
  {
   "cell_type": "code",
   "execution_count": 2,
   "outputs": [],
   "source": [
    "baseDir = \"exceptionsMC/\"\n",
    "files = os.listdir(baseDir)"
   ],
   "metadata": {
    "collapsed": false,
    "pycharm": {
     "name": "#%%\n"
    }
   }
  },
  {
   "cell_type": "code",
   "execution_count": 3,
   "outputs": [],
   "source": [
    "params = []\n",
    "for f in files:\n",
    "    p = []\n",
    "    c = f.split(\"_\")\n",
    "    p.append(c[1])\n",
    "    p.append(c[2])\n",
    "    p.append(c[3])\n",
    "    p.append(c[4])\n",
    "    p.append(c[5][:-4])\n",
    "    params.append(p)\n",
    "params = np.array(params)"
   ],
   "metadata": {
    "collapsed": false,
    "pycharm": {
     "name": "#%%\n"
    }
   }
  },
  {
   "cell_type": "code",
   "execution_count": 4,
   "outputs": [],
   "source": [
    "p16 = params[params[:,4] == '16']"
   ],
   "metadata": {
    "collapsed": false,
    "pycharm": {
     "name": "#%%\n"
    }
   }
  },
  {
   "cell_type": "code",
   "execution_count": 5,
   "outputs": [
    {
     "data": {
      "text/plain": "(5613, 5)"
     },
     "execution_count": 5,
     "metadata": {},
     "output_type": "execute_result"
    }
   ],
   "source": [
    "p16.shape"
   ],
   "metadata": {
    "collapsed": false,
    "pycharm": {
     "name": "#%%\n"
    }
   }
  },
  {
   "cell_type": "code",
   "execution_count": 6,
   "outputs": [
    {
     "name": "stdout",
     "output_type": "stream",
     "text": [
      "nN 1: len 6561; uniques 9 9 9 9 1\n",
      "nN 16: len 5613; uniques 9 9 9 9 1\n",
      "nN 24: len 6561; uniques 9 9 9 9 1\n",
      "nN 32: len 6561; uniques 9 9 9 9 1\n",
      "nN 40: len 6561; uniques 9 9 9 9 1\n",
      "nN 48: len 6561; uniques 9 9 9 9 1\n",
      "nN 56: len 6561; uniques 9 9 9 9 1\n"
     ]
    }
   ],
   "source": [
    "print(\"\\n\".join([\"nN {}: len {}; uniques \".format(n,p.shape[0]) + \" \".join([str(np.unique(p[:,k]).shape[0]) for k in range(p.shape[1])]) for n in np.unique(params[:,4]) if (p:=params[params[:,4] == n]) is not None ]))"
   ],
   "metadata": {
    "collapsed": false,
    "pycharm": {
     "name": "#%%\n"
    }
   }
  },
  {
   "cell_type": "code",
   "execution_count": 7,
   "outputs": [],
   "source": [
    "with open(os.path.join(baseDir,files[0]), 'rt') as f:\n",
    "    doc = f.read()"
   ],
   "metadata": {
    "collapsed": false,
    "pycharm": {
     "name": "#%%\n"
    }
   }
  },
  {
   "cell_type": "code",
   "execution_count": 8,
   "outputs": [],
   "source": [
    "allErrors = []\n",
    "for currFile in files:\n",
    "    with open(os.path.join(baseDir,currFile), 'rt') as f:\n",
    "        doc = f.read()\n",
    "    lines = doc.split('\\n\\n')\n",
    "    lines[-1] = lines[-1][:-1] #remove last \\n\n",
    "    for line in lines:\n",
    "        allErrors.append(line.split(\"): \")[1])\n",
    "allErrors = np.array(allErrors)"
   ],
   "metadata": {
    "collapsed": false,
    "pycharm": {
     "name": "#%%\n"
    }
   }
  },
  {
   "cell_type": "code",
   "execution_count": 9,
   "outputs": [],
   "source": [
    "uniqueErrors = np.unique(allErrors)"
   ],
   "metadata": {
    "collapsed": false,
    "pycharm": {
     "name": "#%%\n"
    }
   }
  },
  {
   "cell_type": "code",
   "execution_count": 10,
   "outputs": [
    {
     "data": {
      "text/plain": "array(['Extremely bad integrand behavior occurs at some points of the\\n  integration interval.',\n       'The algorithm does not converge.  Roundoff error is detected\\n  in the extrapolation table.  It is assumed that the requested tolerance\\n  cannot be achieved, and that the returned result (if full_output = 1) is \\n  the best which can be obtained.',\n       'The integral is probably divergent, or slowly convergent.',\n       'The maximum number of subdivisions (50) has been achieved.\\n  If increasing the limit yields no improvement it is advised to analyze \\n  the integrand in order to determine the difficulties.  If the position of a \\n  local difficulty can be determined (singularity, discontinuity) one will \\n  probably gain from splitting up the interval and calling the integrator \\n  on the subranges.  Perhaps a special-purpose integrator should be used.'],\n      dtype='<U436')"
     },
     "execution_count": 10,
     "metadata": {},
     "output_type": "execute_result"
    }
   ],
   "source": [
    "uniqueErrors"
   ],
   "metadata": {
    "collapsed": false,
    "pycharm": {
     "name": "#%%\n"
    }
   }
  },
  {
   "cell_type": "code",
   "execution_count": 11,
   "outputs": [
    {
     "data": {
      "text/plain": "array(['0.0065', '0.65', '524', '0.008375', '16'], dtype='<U8')"
     },
     "execution_count": 11,
     "metadata": {},
     "output_type": "execute_result"
    }
   ],
   "source": [
    "params[0]"
   ],
   "metadata": {
    "collapsed": false,
    "pycharm": {
     "name": "#%%\n"
    }
   }
  },
  {
   "cell_type": "code",
   "execution_count": 12,
   "outputs": [],
   "source": [
    "allParamErrors = []\n",
    "for iErr, err in enumerate(uniqueErrors):\n",
    "    allParamErrors.append([])\n",
    "    for iFile, currFile in enumerate(files):\n",
    "        with open(os.path.join(baseDir,currFile), 'rt') as f:\n",
    "            doc = f.read()\n",
    "        lines = doc.split('\\n\\n')\n",
    "        lines[-1] = lines[-1][:-1] #remove last \\n\n",
    "        for line in lines:\n",
    "            currError = line.split(\"): \")[1]\n",
    "            if err[:5] == currError[:5]:\n",
    "                allParamErrors[-1].append(params[iFile])\n",
    "                break\n"
   ],
   "metadata": {
    "collapsed": false,
    "pycharm": {
     "name": "#%%\n"
    }
   }
  },
  {
   "cell_type": "code",
   "execution_count": 13,
   "outputs": [],
   "source": [
    "for i in range(len(allParamErrors)):\n",
    "    allParamErrors[i] = np.array(allParamErrors[i])"
   ],
   "metadata": {
    "collapsed": false,
    "pycharm": {
     "name": "#%%\n"
    }
   }
  },
  {
   "cell_type": "code",
   "execution_count": 14,
   "outputs": [
    {
     "data": {
      "text/plain": "[38, 6561, 6561, 44979]"
     },
     "execution_count": 14,
     "metadata": {},
     "output_type": "execute_result"
    }
   ],
   "source": [
    "[len(e) for e in allParamErrors]"
   ],
   "metadata": {
    "collapsed": false,
    "pycharm": {
     "name": "#%%\n"
    }
   }
  },
  {
   "cell_type": "code",
   "execution_count": 15,
   "outputs": [
    {
     "data": {
      "text/plain": "[array(['1'], dtype='<U8'),\n array(['1'], dtype='<U8'),\n array(['1'], dtype='<U8')]"
     },
     "execution_count": 15,
     "metadata": {},
     "output_type": "execute_result"
    }
   ],
   "source": [
    "[ np.unique(allParamErrors[i][:,4]) for i in range(3)]"
   ],
   "metadata": {
    "collapsed": false,
    "pycharm": {
     "name": "#%%\n"
    }
   }
  },
  {
   "cell_type": "code",
   "execution_count": 16,
   "outputs": [
    {
     "data": {
      "text/plain": "array(['1', '16', '24', '32', '40', '48', '56'], dtype='<U8')"
     },
     "execution_count": 16,
     "metadata": {},
     "output_type": "execute_result"
    }
   ],
   "source": [
    "np.unique(allParamErrors[3][:,4])"
   ],
   "metadata": {
    "collapsed": false,
    "pycharm": {
     "name": "#%%\n"
    }
   }
  }
 ],
 "metadata": {
  "kernelspec": {
   "display_name": "Python 3",
   "language": "python",
   "name": "python3"
  },
  "language_info": {
   "codemirror_mode": {
    "name": "ipython",
    "version": 2
   },
   "file_extension": ".py",
   "mimetype": "text/x-python",
   "name": "python",
   "nbconvert_exporter": "python",
   "pygments_lexer": "ipython2",
   "version": "2.7.6"
  }
 },
 "nbformat": 4,
 "nbformat_minor": 0
}
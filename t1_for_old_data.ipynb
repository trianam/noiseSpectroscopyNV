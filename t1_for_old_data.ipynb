{
 "cells": [
  {
   "cell_type": "code",
   "execution_count": 1,
   "metadata": {},
   "outputs": [],
   "source": [
    "%matplotlib inline\n",
    "\n",
    "import matplotlib.pyplot as plt\n",
    "import numpy as np\n",
    "import time"
   ]
  },
  {
   "cell_type": "code",
   "execution_count": 2,
   "metadata": {},
   "outputs": [],
   "source": [
    "from calculate_chi_func import chiCalc_custom"
   ]
  },
  {
   "cell_type": "raw",
   "metadata": {},
   "source": [
    "635 G\n",
    "2018-03-22_DynamicalDecoupling - CP changing t1 - YX8 0.15-0.004-0.55 I+Q lowN 632G +-x.ipynb\n",
    "2018-03-14_DynamicalDecoupling - CP changing t1 - YX8 1.0-0.004-1.26 I+Q 632G 1stL +x.ipynb\n",
    "2018-03-21_DynamicalDecoupling - CP changing t1 - YX8 1.6-0.008-2.0 I+Q 632G 2ndL - merge+-x.ipynb\n",
    "2018-03-28_DynamicalDecoupling - CP changing t1 - YX8 2.38-0.012-2.74 I+Q 632G 3rdL - merge+-x.ipynb\n",
    "\n",
    "528 G\n",
    "2018-02-12_DynamicalDecoupling - CP changing t1 - YX8 0.20-0.004-0.60 - 530G - merge+-x.ipynb\n",
    "2018-03-30_DynamicalDecoupling - CP changing t1 - YX8 1.1-0.008-1.5 I+Q 530G  - merge+-x.ipynb\n",
    "2018-04-03_DynamicalDecoupling - CP changing t1 - YX8 2.0-0.01-2.4 I+Q 530G  - merge+-x.ipynb\n",
    "\n",
    "394 G\n",
    "2018-02-06_DynamicalDecoupling - CP changing t1 - XY-8 0.25-0.005-0.70 - 394G - Redo.ipynb\n",
    "2018-04-06_DynamicalDecoupling - CP changing t1 - YX8 1.55-0.008-1.95 I+Q 394G  - merge+-x.ipynb\n",
    "2018-04-10_DynamicalDecoupling - CP changing t1 - YX8 2.6-0.015-3.2 I+Q 394G  - merge+-x.ipynb\n",
    "\n",
    "309 G\n",
    "2018-01-17_DynamicalDecoupling - CP changing t1 - XY-8 0.45-0.01-1.05 correcting detuning.ipynb\n",
    "2018-01-22_DynamicalDecoupling - CP changing t1 - XY-8 0.15-0.004-0.45.ipynb\n",
    "2018-04-12_DynamicalDecoupling - CP changing t1 - YX8 1.95-0.010-2.40 I+Q 310G - merge+-x.ipynb\n",
    "2018-04-13_DynamicalDecoupling - CP changing t1 - YX8 3.42-0.020-4.18 I+Q 310G - merge+-x.ipynb\n",
    "\n",
    "208 G\n",
    "2018-01-31_DynamicalDecoupling - CP changing t1 - XY-8 0.25-0.005-0.65 - 205G.ipynb\n",
    "2018-01-31_DynamicalDecoupling - CP changing t1 - XY-8 0.65-0.015-1.55 - 205G.ipynb\n",
    "2018-04-16_DynamicalDecoupling - CP changing t1 - YX8 2.95-0.020-3.85 I+Q 205G - merge+-x.ipynb\n",
    "2018-04-18_DynamicalDecoupling - CP changing t1 - YX8 4.90-0.040-6.50 I+Q 205G - merge+-x.ipynb"
   ]
  },
  {
   "cell_type": "code",
   "execution_count": 3,
   "metadata": {},
   "outputs": [],
   "source": [
    "t1_635 = np.array([\n",
    "    np.arange(0.15,0.55+0.004,0.004),\n",
    "    np.arange(1.0,1.26+0.004,0.004),\n",
    "    np.arange(1.6,2.0+0.008,0.008),\n",
    "    np.arange(2.38,2.74+0.012,0.012)\n",
    "])\n",
    "numP_635 = np.array([\n",
    "    np.array([1,4,8,12,16,24,32,40,48,56,64,72,80,88,96,104,120,136,152,168,200]),\n",
    "    np.array([1,4,8,12,16,24,32,40,48,56,64,72]),\n",
    "    np.array([1,4,8,12,16,24,32,40,48,56]),\n",
    "    np.array([1,4,8,12,16,24,32,40,48,56,   72])\n",
    "])\n",
    "\n",
    "t1_528 = np.array([\n",
    "    np.arange(0.20,0.6+0.004,0.004),\n",
    "    np.arange(1.1,1.5+0.008,0.008),\n",
    "    np.arange(2.0,2.4+0.01,0.01)\n",
    "])\n",
    "numP_528 = np.array([\n",
    "    np.array([1,4,8,   16,24,32,40,48,56,64,72,80]),\n",
    "    np.array([1,4,8,12,16,24,32,40,48,56,   72]),\n",
    "    np.array([1,4,8,12,16,24,32,40,48,56,   72])\n",
    "])\n",
    "\n",
    "t1_394 = np.array([\n",
    "    np.arange(0.25,0.70+0.005,0.005),\n",
    "    np.arange(1.55,1.95+0.008,0.008),\n",
    "    np.arange(2.6,3.20+0.015,0.015)\n",
    "])\n",
    "numP_394 = np.array([\n",
    "    np.array([1,4,8,   16,24,32,40,48,56,64,72,80,88,96]),\n",
    "    np.array([1,4,8,12,16,24,32,40,48,56,   72]),\n",
    "    np.array([1,4,8,12,16,24,32,40,48,56])\n",
    "])\n",
    "\n",
    "t1_309 = np.array([\n",
    "    np.arange(0.45,1.05+0.01,0.01),\n",
    "    np.arange(0.15,0.45+0.004,0.004),\n",
    "    np.arange(1.95,2.40+0.010,0.010),\n",
    "    np.arange(3.42,4.18+0.020,0.020)\n",
    "])\n",
    "numP_309 = np.array([\n",
    "    np.array([1,4,8,   16,24,32,40,48,56,64]),\n",
    "    np.array([1,4,8,   16,24,32,40,48,56,64,72,88,96,104,112]),\n",
    "    np.array([1,4,8,12,16,24,32,40,48,56]),\n",
    "    np.array([1,4,8,12,16,24,32,40])\n",
    "])\n",
    "\n",
    "t1_208 = np.array([\n",
    "    np.arange(0.25,0.65+0.005,0.005),\n",
    "    np.arange(0.65,1.55+0.015,0.015),\n",
    "    np.arange(2.95,3.85+0.020,0.020),\n",
    "    np.arange(4.90,6.50+0.040,0.040)\n",
    "])\n",
    "numP_208 = np.array([\n",
    "    np.array([1,    4,8,   16,24,32,40,48,56,64,72,80,88,96]),\n",
    "    np.array([1,2,3,4,8,   16,24,32,40,48]),\n",
    "    np.array([1,    4,8,12,16,24,32,40]),\n",
    "    np.array([1,    4,8,12,16,24,32])\n",
    "])"
   ]
  },
  {
   "cell_type": "code",
   "execution_count": null,
   "metadata": {},
   "outputs": [],
   "source": []
  },
  {
   "cell_type": "code",
   "execution_count": 4,
   "metadata": {},
   "outputs": [
    {
     "data": {
      "text/plain": [
       "[<matplotlib.lines.Line2D at 0x7fd8c1ccbf28>]"
      ]
     },
     "execution_count": 4,
     "metadata": {},
     "output_type": "execute_result"
    },
    {
     "data": {
      "image/png": "[encoded data removed]",
      "text/plain": [
       "<Figure size 432x288 with 1 Axes>"
      ]
     },
     "metadata": {
      "needs_background": "light"
     },
     "output_type": "display_data"
    }
   ],
   "source": [
    "all_t1 = np.unique(np.concatenate(np.concatenate([t1_635,t1_528,t1_394,t1_309,t1_208])))\n",
    "plt.plot(all_t1,':.')"
   ]
  },
  {
   "cell_type": "code",
   "execution_count": 5,
   "metadata": {},
   "outputs": [
    {
     "name": "stdout",
     "output_type": "stream",
     "text": [
      "(250,)\n",
      "(193,)\n",
      "(184,)\n",
      "(224,)\n",
      "(229,)\n"
     ]
    }
   ],
   "source": [
    "for data in [t1_635,t1_528,t1_394,t1_309,t1_208]:\n",
    "    print(np.unique(np.concatenate(data)).shape)"
   ]
  },
  {
   "cell_type": "code",
   "execution_count": 6,
   "metadata": {},
   "outputs": [
    {
     "data": {
      "text/plain": [
       "((201,), (200,))"
      ]
     },
     "execution_count": 6,
     "metadata": {},
     "output_type": "execute_result"
    }
   ],
   "source": [
    "all_numP = np.concatenate(np.concatenate([numP_635,numP_528,numP_394,numP_309,numP_208]))\n",
    "\n",
    "ydata,xdata = np.histogram(all_numP, bins=np.arange(all_numP.min(),all_numP.max()+2)) \n",
    "#plt.plot(xdata,ydata)\n",
    "xdata.shape,ydata.shape#np.histogram(all_numP, bins=np.arange(all_numP.min(),all_numP.max()+1)) "
   ]
  },
  {
   "cell_type": "code",
   "execution_count": 7,
   "metadata": {},
   "outputs": [],
   "source": [
    "xdata=xdata[:-1]"
   ]
  },
  {
   "cell_type": "code",
   "execution_count": 8,
   "metadata": {},
   "outputs": [
    {
     "data": {
      "image/png": "[encoded data removed]",
      "text/plain": [
       "<Figure size 1080x216 with 1 Axes>"
      ]
     },
     "metadata": {
      "needs_background": "light"
     },
     "output_type": "display_data"
    }
   ],
   "source": [
    "plt.figure(figsize=[15,3])\n",
    "plt.hist(all_numP,bins=np.arange(all_numP.min(),all_numP.max()+1))\n",
    "plt.show()"
   ]
  },
  {
   "cell_type": "code",
   "execution_count": null,
   "metadata": {},
   "outputs": [],
   "source": []
  },
  {
   "cell_type": "code",
   "execution_count": null,
   "metadata": {},
   "outputs": [],
   "source": []
  },
  {
   "cell_type": "code",
   "execution_count": 51,
   "metadata": {},
   "outputs": [
    {
     "name": "stdout",
     "output_type": "stream",
     "text": [
      "number of points = 193\n"
     ]
    },
    {
     "data": {
      "image/png": "[encoded data removed]",
      "text/plain": [
       "<Figure size 432x288 with 1 Axes>"
      ]
     },
     "metadata": {
      "needs_background": "light"
     },
     "output_type": "display_data"
    },
    {
     "name": "stdout",
     "output_type": "stream",
     "text": [
      "CPU times: user 3.3 s, sys: 0 ns, total: 3.3 s\n",
      "Wall time: 3.3 s\n"
     ]
    }
   ],
   "source": [
    "%%time\n",
    "\n",
    "showPlot=True #False #\n",
    "saveData=False #True #\n",
    "\n",
    "# Parameters of the control field\n",
    "nN = 8 # Number of pi pulses\n",
    "t1_vec = np.concatenate(t1_528) # time vector for t1 [µs]\n",
    "totT_vec = 2*nN*t1_vec # total time vector [µs]\n",
    "print('number of points =',len(t1_vec))\n",
    "\n",
    "# NSD function\n",
    "def funcGauss(x,y0, a,xc,w):\n",
    "    return y0+a*np.exp(-0.5*((x-2*np.pi*xc)/(2*np.pi*w))**2) #I included a couple of 2*np.pi to convert \\nu->\n",
    "\n",
    "def funcNoise(x,y0,a1,x1,w1): # ,a2,x2,w2 ,a3,x3,w3 ,a4,x4,w4):\n",
    "    return y0 + funcGauss(x,0,a1,x1,w1) #+ funcGauss(x,0,a2,x2,w2) + funcGauss(x,0,a3,x3,w3) + funcGauss(x,0,a4,x4,w4)\n",
    "\n",
    "## Function to calculate the distribution of pi pulses for a CPMG sequence\n",
    "def cpmg(t1,nN):\n",
    "    seq=np.ones(nN+1)*2*t1\n",
    "    seq[0]=t1\n",
    "    seq[-1]=t1\n",
    "    return seq\n",
    "\n",
    "# NSD parameters\n",
    "#νl = 635*1.0705e-3 # B*\\gamma [MHZ]\n",
    "#para=np.array([0.0037, 0.38,νl,0.0085]) # [offset, amplitude, center, width] All in MHz\n",
    "νl = 520*1.0705e-3 # B*\\gamma [MHZ]\n",
    "para=np.array([0.0080, 0.3,νl,0.004]) #para=np.array([0.0040, 0.48,νl,0.0062]) # [offset, amplitude, center, width] All in MHz\n",
    "\n",
    "\n",
    "## Calculate chi at every total time\n",
    "chi = np.zeros(len(totT_vec))\n",
    "for i,totT in enumerate(totT_vec):\n",
    "    ## time between pulses\n",
    "    t1 = totT/(2*nN)\n",
    "    ## pi pulses distribution\n",
    "    pulses_times = cpmg(t1,nN).cumsum()[:-1]\n",
    "    ## calculate chi\n",
    "    chi[i] = chiCalc_custom(funcNoise,para,totT,pulses_times)\n",
    "\n",
    "if showPlot:\n",
    "    plt.plot(t1_vec,np.exp(-chi),'.:',ms=6)\n",
    "    plt.xlabel(r'$t_1 \\; [\\mu{\\rm s}]$',fontsize=14)\n",
    "    plt.ylabel(r'$C(t)$',fontsize=14)\n",
    "    plt.show()\n",
    "\n",
    "if saveData:\n",
    "    timestr = time.strftime(\"%Y%m%d-%H%M%S\")\n",
    "    filename = './data_t1-0.1-5us_n-'+str(nN)+'_'+timestr+'.dat'\n",
    "    np.savetxt(filename,np.exp(-chi))"
   ]
  },
  {
   "cell_type": "code",
   "execution_count": 55,
   "metadata": {},
   "outputs": [],
   "source": [
    "# B     = [520,538] steps 2 (10 points)\n",
    "# W1(σ) = [0.004,0.009] (10 points)\n",
    "# A     = [0.3,0.7] (10 points)\n",
    "# y0    = [0.002,0.008] (10 points)\n",
    "\n",
    "# N = np.array([1,4,8,16,24,32,40,48,56])\n",
    "\n",
    "t1_vec = np.array([0.2  , 0.204, 0.208, 0.212, 0.216, 0.22 , 0.224, 0.228, 0.232,\n",
    "                   0.236, 0.24 , 0.244, 0.248, 0.252, 0.256, 0.26 , 0.264, 0.268,\n",
    "                   0.272, 0.276, 0.28 , 0.284, 0.288, 0.292, 0.296, 0.3  , 0.304,\n",
    "                   0.308, 0.312, 0.316, 0.32 , 0.324, 0.328, 0.332, 0.336, 0.34 ,\n",
    "                   0.344, 0.348, 0.352, 0.356, 0.36 , 0.364, 0.368, 0.372, 0.376,\n",
    "                   0.38 , 0.384, 0.388, 0.392, 0.396, 0.4  , 0.404, 0.408, 0.412,\n",
    "                   0.416, 0.42 , 0.424, 0.428, 0.432, 0.436, 0.44 , 0.444, 0.448,\n",
    "                   0.452, 0.456, 0.46 , 0.464, 0.468, 0.472, 0.476, 0.48 , 0.484,\n",
    "                   0.488, 0.492, 0.496, 0.5  , 0.504, 0.508, 0.512, 0.516, 0.52 ,\n",
    "                   0.524, 0.528, 0.532, 0.536, 0.54 , 0.544, 0.548, 0.552, 0.556,\n",
    "                   0.56 , 0.564, 0.568, 0.572, 0.576, 0.58 , 0.584, 0.588, 0.592,\n",
    "                   0.596, 0.6  , 1.1  , 1.108, 1.116, 1.124, 1.132, 1.14 , 1.148,\n",
    "                   1.156, 1.164, 1.172, 1.18 , 1.188, 1.196, 1.204, 1.212, 1.22 ,\n",
    "                   1.228, 1.236, 1.244, 1.252, 1.26 , 1.268, 1.276, 1.284, 1.292,\n",
    "                   1.3  , 1.308, 1.316, 1.324, 1.332, 1.34 , 1.348, 1.356, 1.364,\n",
    "                   1.372, 1.38 , 1.388, 1.396, 1.404, 1.412, 1.42 , 1.428, 1.436,\n",
    "                   1.444, 1.452, 1.46 , 1.468, 1.476, 1.484, 1.492, 1.5  , 2.   ,\n",
    "                   2.01 , 2.02 , 2.03 , 2.04 , 2.05 , 2.06 , 2.07 , 2.08 , 2.09 ,\n",
    "                   2.1  , 2.11 , 2.12 , 2.13 , 2.14 , 2.15 , 2.16 , 2.17 , 2.18 ,\n",
    "                   2.19 , 2.2  , 2.21 , 2.22 , 2.23 , 2.24 , 2.25 , 2.26 , 2.27 ,\n",
    "                   2.28 , 2.29 , 2.3  , 2.31 , 2.32 , 2.33 , 2.34 , 2.35 , 2.36 ,\n",
    "                   2.37 , 2.38 , 2.39 , 2.4  ])"
   ]
  },
  {
   "cell_type": "code",
   "execution_count": 56,
   "metadata": {},
   "outputs": [
    {
     "data": {
      "text/plain": [
       "[<matplotlib.lines.Line2D at 0x7fd8c1541b00>]"
      ]
     },
     "execution_count": 56,
     "metadata": {},
     "output_type": "execute_result"
    },
    {
     "data": {
      "image/png": "[encoded data removed]",
      "text/plain": [
       "<Figure size 432x288 with 1 Axes>"
      ]
     },
     "metadata": {
      "needs_background": "light"
     },
     "output_type": "display_data"
    }
   ],
   "source": [
    "plt.plot(t1_vec)"
   ]
  },
  {
   "cell_type": "code",
   "execution_count": 66,
   "metadata": {},
   "outputs": [
    {
     "data": {
      "text/plain": [
       "0.51166"
      ]
     },
     "execution_count": 66,
     "metadata": {},
     "output_type": "execute_result"
    }
   ],
   "source": [
    "γ*min(B_lims)-5*max(σ_lims)"
   ]
  },
  {
   "cell_type": "code",
   "execution_count": 68,
   "metadata": {},
   "outputs": [
    {
     "data": {
      "text/plain": [
       "(0.55666, 0.5780700000000001)"
      ]
     },
     "execution_count": 68,
     "metadata": {},
     "output_type": "execute_result"
    }
   ],
   "source": [
    "520*γ,540*γ"
   ]
  },
  {
   "cell_type": "code",
   "execution_count": null,
   "metadata": {},
   "outputs": [],
   "source": []
  },
  {
   "cell_type": "markdown",
   "metadata": {},
   "source": [
    "### Chose the limits (and precision) of $\\omega$ in order to estimate the error "
   ]
  },
  {
   "cell_type": "raw",
   "metadata": {},
   "source": [
    "# omega_down , omega_up = (0.001, 8.5) <-- 2π MHz"
   ]
  },
  {
   "cell_type": "code",
   "execution_count": 132,
   "metadata": {},
   "outputs": [
    {
     "data": {
      "text/plain": [
       "0.1420107364393774"
      ]
     },
     "execution_count": 132,
     "metadata": {},
     "output_type": "execute_result"
    },
    {
     "data": {
      "image/png": "[encoded data removed]",
      "text/plain": [
       "<Figure size 432x288 with 1 Axes>"
      ]
     },
     "metadata": {
      "needs_background": "light"
     },
     "output_type": "display_data"
    }
   ],
   "source": [
    "B_lims   = [520,538] #steps 2 (10 points)\n",
    "σ_lims   = [0.004,0.009] #(10 points)\n",
    "A_lims   = [0.3,0.7] #(10 points)\n",
    "y0_lims  = [0.002,0.008] #(10 points)\n",
    "\n",
    "γ=1.0705e-3 # C-13 nuclear spin gyromagnetic ratio\n",
    "\n",
    "omega2 = 2*np.pi*np.linspace(γ*min(B_lims)-5*max(σ_lims), γ*max(B_lims)+5*max(σ_lims),500) #\n",
    "\n",
    "νl = min(B_lims)*γ # B*\\gamma [MHZ]\n",
    "para_A=np.array([0.0, max(A_lims),νl,max(σ_lims)]) # [offset, amplitude, center, width] All in MHz\n",
    "plt.plot(omega2,funcNoise(omega2,*para_A),':.')\n",
    "\n",
    "νl = max(B_lims)*γ # B*\\gamma [MHZ]\n",
    "para_B=np.array([0.0, max(A_lims),νl,max(σ_lims)]) # [offset, amplitude, center, width] All in MHz\n",
    "plt.plot(omega2,funcNoise(omega2,*para_B),':.')\n",
    "\n",
    "sum(abs(funcNoise(omega2,*para_B)-funcNoise(omega2,*para_A)))*(omega2[1]-omega2[0])"
   ]
  },
  {
   "cell_type": "code",
   "execution_count": 134,
   "metadata": {},
   "outputs": [
    {
     "name": "stdout",
     "output_type": "stream",
     "text": [
      "CPU times: user 32 ms, sys: 0 ns, total: 32 ms\n",
      "Wall time: 27.9 ms\n"
     ]
    },
    {
     "data": {
      "text/plain": [
       "0.037194295844091944"
      ]
     },
     "execution_count": 134,
     "metadata": {},
     "output_type": "execute_result"
    },
    {
     "data": {
      "image/png": "[encoded data removed]",
      "text/plain": [
       "<Figure size 432x288 with 1 Axes>"
      ]
     },
     "metadata": {
      "needs_background": "light"
     },
     "output_type": "display_data"
    }
   ],
   "source": [
    "%%time \n",
    "\n",
    "B_lims   = [520,538] #steps 2 (10 points)\n",
    "σ_lims   = [0.004,0.009] #(10 points)\n",
    "A_lims   = [0.3,0.7] #(10 points)\n",
    "y0_lims  = [0.002,0.008] #(10 points)\n",
    "\n",
    "γ=1.0705e-3 # C-13 nuclear spin gyromagnetic ratio\n",
    "\n",
    "omega2 = 2*np.pi*np.linspace(γ*min(B_lims)-5*max(σ_lims), γ*max(B_lims)+5*max(σ_lims),500)\n",
    "\n",
    "νl = min(B_lims)*γ # B*\\gamma [MHZ]\n",
    "para_A=np.array([0.0, min(A_lims),νl,min(σ_lims)]) # [offset, amplitude, center, width] All in MHz\n",
    "plt.plot(omega2,funcNoise(omega2,*para_A),':.')\n",
    "\n",
    "νl = max(B_lims)*γ # B*\\gamma [MHZ]\n",
    "para_B=np.array([0.0, min(A_lims),νl,min(σ_lims)]) # [offset, amplitude, center, width] All in MHz\n",
    "plt.plot(omega2,funcNoise(omega2,*para_B),':.')\n",
    "\n",
    "sum(abs(funcNoise(omega2,*para_B)-funcNoise(omega2,*para_A)))*(omega2[1]-omega2[0])"
   ]
  },
  {
   "cell_type": "code",
   "execution_count": null,
   "metadata": {},
   "outputs": [],
   "source": []
  },
  {
   "cell_type": "code",
   "execution_count": null,
   "metadata": {},
   "outputs": [],
   "source": []
  }
 ],
 "metadata": {
  "kernelspec": {
   "display_name": "Python 3",
   "language": "python",
   "name": "python3"
  },
  "language_info": {
   "codemirror_mode": {
    "name": "ipython",
    "version": 3
   },
   "file_extension": ".py",
   "mimetype": "text/x-python",
   "name": "python",
   "nbconvert_exporter": "python",
   "pygments_lexer": "ipython3",
   "version": "3.6.10"
  },
  "latex_envs": {
   "LaTeX_envs_menu_present": true,
   "autoclose": false,
   "autocomplete": true,
   "bibliofile": "biblio.bib",
   "cite_by": "apalike",
   "current_citInitial": 1,
   "eqLabelWithNumbers": true,
   "eqNumInitial": 1,
   "hotkeys": {
    "equation": "Ctrl-E",
    "itemize": "Ctrl-I"
   },
   "labels_anchors": false,
   "latex_user_defs": false,
   "report_style_numbering": false,
   "user_envs_cfg": false
  }
 },
 "nbformat": 4,
 "nbformat_minor": 4
}
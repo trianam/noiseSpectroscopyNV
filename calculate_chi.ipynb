{
 "cells": [
  {
   "cell_type": "code",
   "execution_count": 9,
   "metadata": {},
   "outputs": [],
   "source": [
    "%matplotlib inline\n",
    "\n",
    "import matplotlib.pyplot as plt\n",
    "import numpy as np\n",
    "import time"
   ]
  },
  {
   "cell_type": "code",
   "execution_count": 10,
   "metadata": {},
   "outputs": [],
   "source": [
    "from calculate_chi_func import chiCalc_custom"
   ]
  },
  {
   "cell_type": "code",
   "execution_count": 11,
   "metadata": {},
   "outputs": [
    {
     "name": "stdout",
     "output_type": "stream",
     "text": [
      "number of points = 700\n"
     ]
    }
   ],
   "source": [
    "# Parameters of the control field\n",
    "nN = 8 # Number of pi pulses\n",
    "t1_vec = np.arange(0.1,1.5,0.002) # time vector for t1 [µs] # t1_vec = np.arange(0.1,2,0.002)\n",
    "totT_vec = 2*nN*t1_vec # total time vector [µs]\n",
    "print('number of points =',len(t1_vec))\n",
    "\n",
    "# NSD function\n",
    "def funcGauss(x,y0,a,xc,w):\n",
    "    return y0+a*np.exp(-0.5*((x-2*np.pi*xc)/(2*np.pi*w))**2) #I included a couple of 2*np.pi to convert \\nu->\n",
    "\n",
    "def funcNoise(x,y0,a1,x1,w1): \n",
    "    return y0 + funcGauss(x,0,a1,x1,w1) #+ funcGauss(x,0,a2,x2,w2) + funcGauss(x,0,a3,x3,w3) + funcGauss(x,0,a4,x4,w4)\n",
    "\n",
    "## NSD parameters\n",
    "#νl_exp = 403.6*1.0705e-3 # B*\\gamma [MHZ]\n",
    "#para_exp = np.array([0.00119,0.52,νl_exp,0.0042]) # [offset, amplitude, center, width] all in MHz\n",
    "\n",
    "## Function to calculate the distribution of pi pulses for a CPMG sequence\n",
    "def cpmg(t1,nN):\n",
    "    seq = np.ones(nN+1)*2*t1\n",
    "    seq[0] = t1\n",
    "    seq[-1] = t1 # [-1] indica l'elemento finale del vettore\n",
    "    return seq"
   ]
  },
  {
   "cell_type": "raw",
   "metadata": {},
   "source": [
    "nN = 8\n",
    "t1 = 1.2\n",
    "example = cpmg(t1,nN)\n",
    "print(example)\n",
    "pulses_times = cpmg(t1,nN).cumsum()[:-1] \n",
    "print(pulses_times)\n",
    "totT = 2*nN*t1\n",
    "distPi = pulses_times/(totT)\n",
    "print(distPi)"
   ]
  },
  {
   "cell_type": "raw",
   "metadata": {},
   "source": [
    "νl = 500*1.0705e-3 # B*\\gamma [MHZ]\n",
    "para = np.array([0.00119,0.52,νl,0.0042]) # [offset, amplitude, center, width] all in MHz\n",
    "xx = np.linspace(0.001,8.5,500)\n",
    "plt.plot(xx*2*np.pi,funcNoise(2*np.pi*xx,*para))"
   ]
  },
  {
   "cell_type": "code",
   "execution_count": 13,
   "metadata": {},
   "outputs": [
    {
     "data": {
      "image/png": "[encoded data removed]",
      "text/plain": [
       "<Figure size 432x288 with 1 Axes>"
      ]
     },
     "metadata": {
      "needs_background": "light"
     },
     "output_type": "display_data"
    },
    {
     "name": "stdout",
     "output_type": "stream",
     "text": [
      "Wall time: 4.4 s\n"
     ]
    }
   ],
   "source": [
    "%%time \n",
    "# N.B.: %%time è un comando speciale (cell magic) per la valutazione del tempo di calcolo\n",
    "\n",
    "showPlot = True #False #\n",
    "saveData = False #True #\n",
    "\n",
    "# NSD parameters\n",
    "νl = 403.6*1.0705e-3 # B*\\gamma [MHZ]\n",
    "para = np.array([0.00119,0.52,νl,0.0042]) # [offset, amplitude, center, width] all in MHz\n",
    "\n",
    "## Calculate chi at every total time\n",
    "chi = np.zeros(len(totT_vec))\n",
    "\n",
    "for i,totT in enumerate(totT_vec):\n",
    "    \n",
    "    ## Time between pulses\n",
    "    t1 = totT/(2*nN)\n",
    "    \n",
    "    ## pi pulses distribution\n",
    "    pulses_times = cpmg(t1,nN).cumsum()[:-1] # [:-1] <--- del vettore considerato si prendono tutti i valori all'infuori dell'ultimo\n",
    "    \n",
    "    ## Calculate chi\n",
    "    chi[i] = chiCalc_custom(funcNoise,para,totT,pulses_times)\n",
    "\n",
    "if showPlot:\n",
    "    plt.plot(t1_vec,np.exp(-chi),'.:',ms=6)\n",
    "    plt.xlabel(r'$t_1 \\; [\\mu{\\rm s}]$',fontsize=14)\n",
    "    plt.ylabel(r'$C(t)$',fontsize=14)\n",
    "    plt.show()\n",
    "\n",
    "if saveData:\n",
    "    timestr = time.strftime(\"%Y%m%d-%H%M%S\")\n",
    "    filename = './data_t1-0.1-5us_n-'+str(nN)+'_'+timestr+'.dat'\n",
    "    np.savetxt(filename,np.exp(-chi))"
   ]
  },
  {
   "cell_type": "code",
   "execution_count": 14,
   "metadata": {},
   "outputs": [
    {
     "name": "stdout",
     "output_type": "stream",
     "text": [
      "total simulation time 12.222222222222223 hrs\n"
     ]
    }
   ],
   "source": [
    "noise_parameters = 4;\n",
    "x = 10 #number of points for each parameter\n",
    "print('total simulation time',4.4*x**noise_parameters/60/60,'hrs')"
   ]
  },
  {
   "cell_type": "markdown",
   "metadata": {},
   "source": [
    "Total time: $T = 2 N t_1$\n",
    "\n",
    "Frequency: $\\nu_l = \\frac{1}{4 t_1}$"
   ]
  },
  {
   "cell_type": "markdown",
   "metadata": {},
   "source": [
    "```y0``` $\\equiv$ offset \n",
    "\n",
    "```a``` $\\equiv$ amplitude\n",
    "\n",
    "```x1``` $\\equiv$ center ; ```x1``` $= B*1.0705e^{-3}$\n",
    "\n",
    "$B$ $\\equiv$ static magnetic field\n",
    "\n",
    "```w1``` $\\equiv$ width $(\\sigma)$\n",
    "\n",
    "```y0``` $\\in [0.0005; 0.01]$ corrisponde a $[0.5; 10]$ KHz\n",
    "\n",
    "```a``` $\\in [0.1; 1]$ corrisponde a $[100; 1000]$ KHz\n",
    "\n",
    "$B \\in [50, 1000]$ G corrisponde ad ```x1``` $\\in [50; 1000]$ KHz\n",
    "\n",
    "```w1``` $\\in [0.001; 0.01]$ corrisponde a $[1; 10]$ kHz"
   ]
  },
  {
   "cell_type": "code",
   "execution_count": 15,
   "metadata": {},
   "outputs": [],
   "source": [
    "#1/4/0.2\n",
    "#1000*1.0705e-3,200*1.0705e-3\n",
    "#1/4/(1000*1.0705e-3),1/4/(200*1.0705e-3)"
   ]
  },
  {
   "cell_type": "code",
   "execution_count": 16,
   "metadata": {},
   "outputs": [],
   "source": [
    "#1/4/0.55/1.0705e-3,1/4/0.15/1.0705e-3"
   ]
  },
  {
   "cell_type": "code",
   "execution_count": null,
   "metadata": {},
   "outputs": [],
   "source": []
  },
  {
   "cell_type": "code",
   "execution_count": 17,
   "metadata": {},
   "outputs": [],
   "source": [
    "#data = np.loadtxt('./data_t1-0.1-5us_n-4_20210302-164516.dat')\n",
    "#plt.plot(data)"
   ]
  },
  {
   "cell_type": "code",
   "execution_count": null,
   "metadata": {},
   "outputs": [],
   "source": []
  }
 ],
 "metadata": {
  "kernelspec": {
   "display_name": "Python 3",
   "language": "python",
   "name": "python3"
  },
  "language_info": {
   "codemirror_mode": {
    "name": "ipython",
    "version": 3
   },
   "file_extension": ".py",
   "mimetype": "text/x-python",
   "name": "python",
   "nbconvert_exporter": "python",
   "pygments_lexer": "ipython3",
   "version": "3.8.5"
  },
  "latex_envs": {
   "LaTeX_envs_menu_present": true,
   "autoclose": false,
   "autocomplete": true,
   "bibliofile": "biblio.bib",
   "cite_by": "apalike",
   "current_citInitial": 1,
   "eqLabelWithNumbers": true,
   "eqNumInitial": 1,
   "hotkeys": {
    "equation": "Ctrl-E",
    "itemize": "Ctrl-I"
   },
   "labels_anchors": false,
   "latex_user_defs": false,
   "report_style_numbering": false,
   "user_envs_cfg": false
  }
 },
 "nbformat": 4,
 "nbformat_minor": 4
}
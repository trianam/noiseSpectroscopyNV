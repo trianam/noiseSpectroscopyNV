{
 "cells": [
  {
   "cell_type": "code",
   "execution_count": 1,
   "metadata": {},
   "outputs": [],
   "source": [
    "# %matplotlib notebook\n",
    "%matplotlib inline\n",
    "import numpy as np\n",
    "from itertools import product\n",
    "import matplotlib.pyplot as plt"
   ]
  },
  {
   "cell_type": "code",
   "execution_count": 2,
   "outputs": [],
   "source": [
    "valuesA = np.linspace(0.1, 1, 10)\n",
    "valuesW1 = np.linspace(0.001, 0.01, 10)\n",
    "\n",
    "tresh = 0.4"
   ],
   "metadata": {
    "collapsed": false,
    "pycharm": {
     "name": "#%%\n"
    }
   }
  },
  {
   "cell_type": "code",
   "execution_count": 3,
   "outputs": [],
   "source": [
    "minA = min(valuesA)\n",
    "maxA = max(valuesA)\n",
    "minW1 = min(valuesW1)\n",
    "maxW1 = max(valuesW1)"
   ],
   "metadata": {
    "collapsed": false,
    "pycharm": {
     "name": "#%%\n"
    }
   }
  },
  {
   "cell_type": "code",
   "execution_count": 4,
   "outputs": [],
   "source": [
    "allCombinations = product(valuesA, valuesW1)\n",
    "filteredCombinations = []\n",
    "for c in allCombinations:\n",
    "    A = (c[0] - minA) / (maxA - minA)\n",
    "    W1 = (c[1] - minW1) / (maxW1 - minW1)\n",
    "    if W1 < A + tresh + 0.01 and W1 > A - tresh - 0.01:\n",
    "        filteredCombinations.append(c)\n",
    "        # filteredCombinations.append((A, W1))\n"
   ],
   "metadata": {
    "collapsed": false,
    "pycharm": {
     "name": "#%%\n"
    }
   }
  },
  {
   "cell_type": "code",
   "execution_count": 5,
   "outputs": [
    {
     "data": {
      "text/plain": "<Figure size 432x288 with 1 Axes>",
      "image/png": "[encoded data removed]"
     },
     "metadata": {
      "needs_background": "light"
     },
     "output_type": "display_data"
    }
   ],
   "source": [
    "fig = plt.figure()\n",
    "ax = fig.add_subplot()\n",
    "pnt = ax.scatter([ c[0] for c in filteredCombinations ], [ c[1] for c in filteredCombinations ], marker='o')\n",
    "ax.set_xlabel('a')\n",
    "ax.set_ylabel('W1')\n",
    "# ax.set_xlim(-0.1,1.1)\n",
    "# ax.set_ylim(-0.1,1.1)\n",
    "\n",
    "plt.show()"
   ],
   "metadata": {
    "collapsed": false,
    "pycharm": {
     "name": "#%%\n"
    }
   }
  },
  {
   "cell_type": "code",
   "execution_count": 5,
   "outputs": [],
   "source": [],
   "metadata": {
    "collapsed": false,
    "pycharm": {
     "name": "#%%\n"
    }
   }
  }
 ],
 "metadata": {
  "kernelspec": {
   "display_name": "Python 3",
   "language": "python",
   "name": "python3"
  },
  "language_info": {
   "codemirror_mode": {
    "name": "ipython",
    "version": 3
   },
   "file_extension": ".py",
   "mimetype": "text/x-python",
   "name": "python",
   "nbconvert_exporter": "python",
   "pygments_lexer": "ipython3",
   "version": "3.8.5"
  }
 },
 "nbformat": 4,
 "nbformat_minor": 4
}